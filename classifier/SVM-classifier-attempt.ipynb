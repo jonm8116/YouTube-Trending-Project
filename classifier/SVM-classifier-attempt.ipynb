{
 "cells": [
  {
   "cell_type": "code",
   "execution_count": 6,
   "metadata": {},
   "outputs": [
    {
     "name": "stdout",
     "output_type": "stream",
     "text": [
      "0.5\n"
     ]
    }
   ],
   "source": [
    "# First read in file\n",
    "import pandas as pd\n",
    "import numpy as np\n",
    "import tensorflow as tf\n",
    "from tensorflow import keras\n",
    "from sklearn import svm\n",
    "\n",
    "trendingSet = pd.read_csv('../data/new-datasets/trending_dataset.csv')\n",
    "nontrendingSet = pd.read_csv('../data/new-datasets/nontrending_dataset.csv')\n",
    "trendingDf = pd.DataFrame(trendingSet)\n",
    "nontrendingDf = pd.DataFrame(nontrendingSet)\n",
    "\n",
    "subsetTrending = trendingDf.head(6000)\n",
    "subsetNontrending = nontrendingDf.head(len(subsetTrending))\n",
    "\n",
    "#Concatenate data sets\n",
    "fullSubset = pd.concat([subsetTrending, subsetNontrending])\n",
    "fullSubset = fullSubset.drop_duplicates(subset='video_id', keep='first')\n",
    "fullSubset['tags_length'] = np.array([int(i) if(i!='[0]') else 0 for i in fullSubset['tags_length'].iloc[:]])\n",
    "\n",
    "#create labels\n",
    "trendingLabels = np.array(fullSubset['trending'].iloc[:])\n",
    "fullSubset = fullSubset.drop(columns=['tags','trending','duration','video_id','video_title'], axis=1)\n",
    "matrixData = np.array(fullSubset)\n",
    "\n",
    "#Standardize the data\n",
    "matrixData = matrixData.astype('float32')\n",
    "matrixData -= np.mean(matrixData, axis=0)\n",
    "matrixData /= np.std(matrixData, axis=0)\n",
    "\n",
    "#Fit the  model\n",
    "clf = svm.SVC(kernel='linear', C=0.01)\n",
    "clf.fit(matrixData, trendingLabels)\n",
    "\n",
    "#Make predictions\n",
    "trendingTestSet = trendingDf.iloc[-400:].drop(columns=['tags','trending','duration','video_id','video_title'], axis=1)\n",
    "nontrendingTestSet = nontrendingDf.iloc[-400:].drop(columns=['tags','trending','duration','video_id','video_title'], axis=1)\n",
    "totaldf = pd.concat([trendingTestSet, nontrendingTestSet])\n",
    "smallTestSet = np.array(totaldf)\n",
    "\n",
    "#test set labels\n",
    "trendingTestLabels = trendingDf.iloc[-400:]['trending']\n",
    "nontrendingTestLabels = nontrendingDf.iloc[-400:]['trending']\n",
    "totalTestlabels = np.concatenate([trendingTestLabels,nontrendingTestLabels])\n",
    "\n",
    "predictions = clf.score(smallTestSet, totalTestlabels)\n",
    "print(predictions)"
   ]
  }
 ],
 "metadata": {
  "kernelspec": {
   "display_name": "Python [conda env:Anaconda3]",
   "language": "python",
   "name": "conda-env-Anaconda3-py"
  },
  "language_info": {
   "codemirror_mode": {
    "name": "ipython",
    "version": 3
   },
   "file_extension": ".py",
   "mimetype": "text/x-python",
   "name": "python",
   "nbconvert_exporter": "python",
   "pygments_lexer": "ipython3",
   "version": "3.5.6"
  }
 },
 "nbformat": 4,
 "nbformat_minor": 2
}
